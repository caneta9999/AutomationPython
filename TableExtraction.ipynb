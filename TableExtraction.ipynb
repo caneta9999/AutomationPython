{
  "nbformat": 4,
  "nbformat_minor": 0,
  "metadata": {
    "colab": {
      "provenance": []
    },
    "kernelspec": {
      "name": "python3",
      "display_name": "Python 3"
    },
    "language_info": {
      "name": "python"
    }
  },
  "cells": [
    {
      "cell_type": "code",
      "source": [
        "import pandas as pd\n",
        "#import camelot"
      ],
      "metadata": {
        "id": "iNHB7ZLjeDmr"
      },
      "execution_count": 18,
      "outputs": []
    },
    {
      "cell_type": "code",
      "execution_count": 19,
      "metadata": {
        "id": "9NCtT0bIdcZm"
      },
      "outputs": [],
      "source": [
        "class TableExtraction:\n",
        "  def html(self,website):\n",
        "    return pd.read_html(website)\n",
        "  def csv_from_url(self,url):\n",
        "    return pd.read_csv(url)\n",
        "  #def table_from_pdf(self,pdf, pages, flavor='lattice'):\n",
        "    #return camelot.read_pdf(pdf, pages=pages, flavor=flavor)"
      ]
    },
    {
      "cell_type": "code",
      "source": [
        "tableExtraction = TableExtraction()"
      ],
      "metadata": {
        "id": "HTF2jOCEev7W"
      },
      "execution_count": 20,
      "outputs": []
    },
    {
      "cell_type": "markdown",
      "source": [
        "# HTML"
      ],
      "metadata": {
        "id": "O6B_AklTgJfp"
      }
    },
    {
      "cell_type": "code",
      "source": [
        "html = tableExtraction.html(input())"
      ],
      "metadata": {
        "id": "qpFiMlSFe6gc"
      },
      "execution_count": null,
      "outputs": []
    },
    {
      "cell_type": "code",
      "source": [
        "html"
      ],
      "metadata": {
        "id": "6hBpEmM_fh7s"
      },
      "execution_count": null,
      "outputs": []
    },
    {
      "cell_type": "markdown",
      "source": [
        "# CSV"
      ],
      "metadata": {
        "id": "ZOLkuSPWgNcT"
      }
    },
    {
      "cell_type": "code",
      "source": [
        "csv = tableExtraction.csv_from_url(input())"
      ],
      "metadata": {
        "id": "5VqJzSCQgWh4"
      },
      "execution_count": null,
      "outputs": []
    },
    {
      "cell_type": "code",
      "source": [
        "csv"
      ],
      "metadata": {
        "id": "fIPCRnY0gxhy"
      },
      "execution_count": null,
      "outputs": []
    }
  ]
}